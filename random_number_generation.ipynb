{
 "cells": [
  {
   "cell_type": "markdown",
   "id": "68d87041",
   "metadata": {},
   "source": [
    "## Use a random number generator to simulate a simple Gaussian process"
   ]
  },
  {
   "cell_type": "code",
   "execution_count": 2,
   "id": "9dc066f9",
   "metadata": {},
   "outputs": [],
   "source": [
    "%matplotlib inline\n",
    "import matplotlib.pyplot as plt\n",
    "import numpy as np"
   ]
  },
  {
   "cell_type": "markdown",
   "id": "17cf5f5b",
   "metadata": {},
   "source": [
    "### Set some properties of the random system"
   ]
  },
  {
   "cell_type": "code",
   "execution_count": 3,
   "id": "d7116734",
   "metadata": {},
   "outputs": [],
   "source": [
    "n_samples = 10000 #number of random samples to use\n",
    "n_bins = 100 #number of bins for our histogram\n",
    "sigma = 1.0 #rms width of the gaussian\n",
    "mu = 0.0 #mean of the gaussian"
   ]
  },
  {
   "cell_type": "markdown",
   "id": "1f40410b",
   "metadata": {},
   "source": [
    "### Generate the random numbers using numpy"
   ]
  },
  {
   "cell_type": "code",
   "execution_count": 5,
   "id": "7dbafab1",
   "metadata": {},
   "outputs": [
    {
     "name": "stdout",
     "output_type": "stream",
     "text": [
      "-4.119648388353224\n",
      "3.890414669381777\n"
     ]
    }
   ],
   "source": [
    "x = np.random.normal(mu,sigma,n_samples)\n",
    "print(x.min())\n",
    "print(x.max())"
   ]
  },
  {
   "cell_type": "markdown",
   "id": "2a32ab2c",
   "metadata": {},
   "source": [
    "### Define a function to plot a Gaussian"
   ]
  },
  {
   "cell_type": "code",
   "execution_count": 6,
   "id": "acbb7b65",
   "metadata": {},
   "outputs": [],
   "source": [
    "def gaussian(x,mu,sigma):\n",
    "    return 1./(2.0*np.pi*sigma**2)**0.5 * np.exp(-0.5*((x-mu)/sigma)**2)"
   ]
  },
  {
   "cell_type": "markdown",
   "id": "af6cb65e",
   "metadata": {},
   "source": [
    "### Create a histogram of the data"
   ]
  },
  {
   "cell_type": "code",
   "execution_count": 7,
   "id": "5667a4c5",
   "metadata": {},
   "outputs": [
    {
     "data": {
      "image/png": "[encoded data removed]",
      "text/plain": [
       "<Figure size 504x504 with 1 Axes>"
      ]
     },
     "metadata": {
      "needs_background": "light"
     },
     "output_type": "display_data"
    }
   ],
   "source": [
    "fig = plt.figure(figsize=(7,7))\n",
    "y_hist, x_hist, ignored = plt.hist(x, bins=n_bins, range=[-5,5], density=True)\n",
    "xx = np.linspace(-5.0,5.0,1000)\n",
    "plt.plot(xx,gaussian(xx,mu,sigma),color=\"red\")\n",
    "plt.ylim([0,0.5])\n",
    "plt.xlim([-5,5])\n",
    "plt.gca().set_aspect(20)\n",
    "plt.xlabel('x')\n",
    "plt.ylabel('y(x)')\n",
    "plt.show()"
   ]
  },
  {
   "cell_type": "code",
   "execution_count": null,
   "id": "631da299",
   "metadata": {},
   "outputs": [],
   "source": []
  }
 ],
 "metadata": {
  "kernelspec": {
   "display_name": "Python 3 (ipykernel)",
   "language": "python",
   "name": "python3"
  },
  "language_info": {
   "codemirror_mode": {
    "name": "ipython",
    "version": 3
   },
   "file_extension": ".py",
   "mimetype": "text/x-python",
   "name": "python",
   "nbconvert_exporter": "python",
   "pygments_lexer": "ipython3",
   "version": "3.9.9"
  }
 },
 "nbformat": 4,
 "nbformat_minor": 5
}
